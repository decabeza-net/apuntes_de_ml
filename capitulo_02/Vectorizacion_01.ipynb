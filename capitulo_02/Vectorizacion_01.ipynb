{
 "cells": [
  {
   "cell_type": "markdown",
   "metadata": {},
   "source": [
    "# Vectorización\n",
    "\n",
    "Comparación de código usando loops for vs. código usando Numpy\n"
   ]
  },
  {
   "cell_type": "code",
   "execution_count": 1,
   "metadata": {},
   "outputs": [],
   "source": [
    "import time\n",
    "import random\n",
    "import numpy as np"
   ]
  },
  {
   "cell_type": "code",
   "execution_count": 11,
   "metadata": {},
   "outputs": [
    {
     "name": "stdout",
     "output_type": "stream",
     "text": [
      "2.6521682739257812\n"
     ]
    }
   ],
   "source": [
    "#Correr con Numpy\n",
    "\n",
    "#Las siguientes dos líneas no las cronometramos porque corresponden al armado de las estructuras de datos\n",
    "x = np.random.rand(1000000) #Un vector con 1.000.000 de componentes\n",
    "y = np.random.rand(1000000) #Otro vector con 1.000.000 de componentes\n",
    "inicio = time.time() #Marcar el inicio de la ejecución\n",
    "z = np.dot(x, y) #Calculamos el producto con\n",
    "fin = time.time() #Marcar el finde la ejecución\n",
    "tiempo = (fin - inicio)*1000 #La diferencia se calcula en microsegundos. De esta manera la expresamos en milisegundos\n",
    "print(tiempo)"
   ]
  },
  {
   "cell_type": "code",
   "execution_count": 15,
   "metadata": {},
   "outputs": [
    {
     "name": "stdout",
     "output_type": "stream",
     "text": [
      "282.84597396850586\n"
     ]
    }
   ],
   "source": [
    "#Correr con Python usando listas\n",
    "#Ahora generamos dos tuplas en Python con dimensión 1.000.000 - \n",
    "t = [random.randrange(0,1) for i in range(1000000)]\n",
    "u = [random.randrange(0,1) for i in range(1000000)]\n",
    "\n",
    "#Finalmente, multiplicamos usando un loop\n",
    "z = 0\n",
    "inicio = time.time()\n",
    "for i in range(1000000):\n",
    "    z+= t[i]*u[i]\n",
    "fin = time.time()\n",
    "\n",
    "tiempo = (fin - inicio)*1000 #La diferencia se calcula en microsegundos. De esta manera la expresamos en milisegundos\n",
    "print(tiempo)"
   ]
  },
  {
   "cell_type": "code",
   "execution_count": 16,
   "metadata": {},
   "outputs": [
    {
     "name": "stdout",
     "output_type": "stream",
     "text": [
      "769.0398693084717\n"
     ]
    }
   ],
   "source": [
    "#Correr con Python usando los arrays de NumPy\n",
    "\n",
    "#Mltiplicamos usando un loop\n",
    "z = 0\n",
    "inicio = time.time()\n",
    "for i in range(1000000):\n",
    "    z+= x[i]*y[i]\n",
    "fin = time.time()\n",
    "\n",
    "tiempo = (fin - inicio)*1000 #La diferencia se calcula en microsegundos. De esta manera la expresamos en milisegundos\n",
    "print(tiempo)"
   ]
  }
 ],
 "metadata": {
  "kernelspec": {
   "display_name": "Python [conda env:dand37]",
   "language": "python",
   "name": "conda-env-dand37-py"
  },
  "language_info": {
   "codemirror_mode": {
    "name": "ipython",
    "version": 3
   },
   "file_extension": ".py",
   "mimetype": "text/x-python",
   "name": "python",
   "nbconvert_exporter": "python",
   "pygments_lexer": "ipython3",
   "version": "3.7.0"
  }
 },
 "nbformat": 4,
 "nbformat_minor": 2
}
