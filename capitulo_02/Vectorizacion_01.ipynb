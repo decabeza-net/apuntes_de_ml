{
 "cells": [
  {
   "cell_type": "markdown",
   "metadata": {},
   "source": [
    "# Vectorización\n",
    "\n",
    "Comparación de código usando loops for vs. código usando Numpy\n"
   ]
  },
  {
   "cell_type": "code",
   "execution_count": 1,
   "metadata": {},
   "outputs": [],
   "source": [
    "import time\n",
    "import random\n",
    "import numpy as np"
   ]
  },
  {
   "cell_type": "code",
   "execution_count": null,
   "metadata": {},
   "outputs": [],
   "source": [
    "#Correr con Numpy\n",
    "\n",
    "#Las siguientes dos líneas no las cronometramos porque corresponden al armado de las estructuras de datos\n",
    "x = np.random.rand(1000000) #Un vector con 1.000.000 de componentes\n",
    "y = np.random.rand(1000000) #Otro vector con 1.000.000 de componentes\n",
    "inicio = time.time() #Marcar el inicio de la ejecución\n",
    "z = np.dot(x, y) #Calculamos el producto con\n",
    "fin = time.time() #Marcar el finde la ejecución\n",
    "tiempo = (fin - inicio)*1000 #La diferencia se calcula en microsegundos. De esta manera la expresamos en milisegundos\n",
    "print(tiempo)"
   ]
  },
  {
   "cell_type": "code",
   "execution_count": null,
   "metadata": {},
   "outputs": [],
   "source": [
    "#Correr con Python usando listas\n",
    "#Ahora generamos dos tuplas en Python con dimensión 1.000.000 - \n",
    "t = [random.randrange(0,1) for i in range(1000000)]\n",
    "u = [random.randrange(0,1) for i in range(1000000)]\n",
    "\n",
    "#Finalmente, multiplicamos usando un loop\n",
    "z = 0\n",
    "inicio = time.time()\n",
    "for i in range(1000000):\n",
    "    z+= t[i]*u[i]\n",
    "fin = time.time()\n",
    "\n",
    "tiempo = (fin - inicio)*1000 #La diferencia se calcula en microsegundos. De esta manera la expresamos en milisegundos\n",
    "print(tiempo)"
   ]
  },
  {
   "cell_type": "code",
   "execution_count": null,
   "metadata": {},
   "outputs": [],
   "source": [
    "#Correr con Python usando los arrays de NumPy\n",
    "\n",
    "#Mltiplicamos usando un loop\n",
    "z = 0\n",
    "inicio = time.time()\n",
    "for i in range(1000000):\n",
    "    z+= x[i]*y[i]\n",
    "fin = time.time()\n",
    "\n",
    "tiempo = (fin - inicio)*1000 #La diferencia se calcula en microsegundos. De esta manera la expresamos en milisegundos\n",
    "print(tiempo)"
   ]
  },
  {
   "cell_type": "code",
   "execution_count": 16,
   "metadata": {},
   "outputs": [
    {
     "name": "stdout",
     "output_type": "stream",
     "text": [
      "136.5981101989746\n",
      "(1000,)\n",
      "26.50745239971854\n"
     ]
    }
   ],
   "source": [
    "#Producto de Matriz por vector: Modo tradicional\n",
    "a = np.array(np.random.rand(1000,100))\n",
    "v = np.array(np.random.rand(100))\n",
    "inicio = time.time()\n",
    "u = np.zeros(1000)\n",
    "for i in range(1000):\n",
    "    for j in range(100):\n",
    "      u[i] += a[i][j]*v[j]  \n",
    "fin = time.time()\n",
    "print(1000*(fin-inicio))\n",
    "print(u.shape)\n",
    "print(u[100])"
   ]
  },
  {
   "cell_type": "code",
   "execution_count": 17,
   "metadata": {},
   "outputs": [
    {
     "name": "stdout",
     "output_type": "stream",
     "text": [
      "10.462045669555664\n",
      "(1000,)\n",
      "26.507452399718538\n"
     ]
    }
   ],
   "source": [
    "#Producto de Matriz por vector: Versión Vectorizada\n",
    "inicio = time.time()\n",
    "u = np.dot(a, v)\n",
    "fin = time.time()\n",
    "print(1000*(fin-inicio))\n",
    "print(u.shape)\n",
    "print(u[100])"
   ]
  },
  {
   "cell_type": "code",
   "execution_count": 19,
   "metadata": {},
   "outputs": [
    {
     "name": "stdout",
     "output_type": "stream",
     "text": [
      "59.653282165527344\n",
      "(10000,)\n",
      "1.4896063942965194\n"
     ]
    }
   ],
   "source": [
    "#Otras operaciones vectorizadas: exponenciales\n",
    "\n",
    "#Método tradicional\n",
    "v = np.random.rand(10000)\n",
    "u = np.zeros(10000)\n",
    "inicio = time.time()\n",
    "for i in range(10000):\n",
    "    u[i] = np.exp(v[i])\n",
    "fin = time.time()\n",
    "print(1000*(fin-inicio))\n",
    "print(u.shape)\n",
    "print(u[100])"
   ]
  },
  {
   "cell_type": "code",
   "execution_count": 20,
   "metadata": {},
   "outputs": [
    {
     "name": "stdout",
     "output_type": "stream",
     "text": [
      "0.7491111755371094\n",
      "(10000,)\n",
      "1.4896063942965194\n"
     ]
    }
   ],
   "source": [
    "#Método vectorizado\n",
    "\n",
    "u = np.zeros(10000)\n",
    "inicio = time.time()\n",
    "u = np.exp(v)\n",
    "fin = time.time()\n",
    "print(1000*(fin-inicio))\n",
    "print(u.shape)\n",
    "print(u[100])"
   ]
  },
  {
   "cell_type": "code",
   "execution_count": null,
   "metadata": {},
   "outputs": [],
   "source": []
  }
 ],
 "metadata": {
  "kernelspec": {
   "display_name": "Python [conda env:dand37]",
   "language": "python",
   "name": "conda-env-dand37-py"
  },
  "language_info": {
   "codemirror_mode": {
    "name": "ipython",
    "version": 3
   },
   "file_extension": ".py",
   "mimetype": "text/x-python",
   "name": "python",
   "nbconvert_exporter": "python",
   "pygments_lexer": "ipython3",
   "version": "3.7.0"
  }
 },
 "nbformat": 4,
 "nbformat_minor": 2
}
