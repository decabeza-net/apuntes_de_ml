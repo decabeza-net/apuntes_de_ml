{
 "cells": [
  {
   "cell_type": "markdown",
   "metadata": {},
   "source": [
    "# Ejemplos de Operaciones con Matrices y Vectores en Numpy"
   ]
  },
  {
   "cell_type": "code",
   "execution_count": null,
   "metadata": {},
   "outputs": [],
   "source": [
    "import numpy as np"
   ]
  },
  {
   "cell_type": "code",
   "execution_count": 21,
   "metadata": {},
   "outputs": [
    {
     "name": "stdout",
     "output_type": "stream",
     "text": [
      "Vector w:\n",
      "[1 2]\n",
      "Vector w transpuesto\n",
      "[1 2]\n",
      "Matriz X\n",
      "[[1 2 3]\n",
      " [4 5 6]]\n",
      "Matriz X transpuesta:\n",
      "[[1 4]\n",
      " [2 5]\n",
      " [3 6]]\n",
      "Resultado de la operación:\n",
      "[19 22 25]\n"
     ]
    }
   ],
   "source": [
    "w = np.array([1,2])\n",
    "X = np.array([[1, 2, 3], [4, 5, 6]])\n",
    "B = np.array([10, 10, 10])\n",
    "print('Vector w:')\n",
    "print(w)\n",
    "print('Vector w transpuesto')\n",
    "print(w.transpose())\n",
    "print('Matriz X')\n",
    "print(X)\n",
    "print('Matriz X transpuesta:')\n",
    "print(X.transpose())\n",
    "print('Resultado de la operación:')\n",
    "Z = np.dot(w, X) + B\n",
    "print(Z)"
   ]
  },
  {
   "cell_type": "code",
   "execution_count": null,
   "metadata": {},
   "outputs": [],
   "source": []
  }
 ],
 "metadata": {
  "kernelspec": {
   "display_name": "Python [conda env:dand37]",
   "language": "python",
   "name": "conda-env-dand37-py"
  },
  "language_info": {
   "codemirror_mode": {
    "name": "ipython",
    "version": 3
   },
   "file_extension": ".py",
   "mimetype": "text/x-python",
   "name": "python",
   "nbconvert_exporter": "python",
   "pygments_lexer": "ipython3",
   "version": "3.7.0"
  }
 },
 "nbformat": 4,
 "nbformat_minor": 2
}
